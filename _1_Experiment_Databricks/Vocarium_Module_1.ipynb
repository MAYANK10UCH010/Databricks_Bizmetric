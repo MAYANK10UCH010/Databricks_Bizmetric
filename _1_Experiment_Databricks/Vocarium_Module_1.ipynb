{
 "cells": [
  {
   "cell_type": "markdown",
   "metadata": {
    "application/vnd.databricks.v1+cell": {
     "cellMetadata": {
      "byteLimit": 2048000,
      "rowLimit": 10000
     },
     "inputWidgets": {},
     "nuid": "6271521f-207e-4d3e-b6f3-8ef3f04cf705",
     "showTitle": false,
     "tableResultSettingsMap": {},
     "title": ""
    }
   },
   "source": [
    "\n",
    "<div style=\"text-align: center; line-height: 0; padding-top: 9px;\">\n",
    "  <img src=\"https://databricks.com/wp-content/uploads/2018/03/db-academy-rgb-1200px.png\" alt=\"Databricks Learning\">\n",
    "</div>\n"
   ]
  },
  {
   "cell_type": "markdown",
   "metadata": {
    "application/vnd.databricks.v1+cell": {
     "cellMetadata": {
      "byteLimit": 2048000,
      "rowLimit": 10000
     },
     "inputWidgets": {},
     "nuid": "e47fb455-cce0-42aa-b273-ddc4a84ab8d8",
     "showTitle": false,
     "tableResultSettingsMap": {},
     "title": ""
    }
   },
   "source": [
    "%md\n",
    "\n",
    "## Generative AI Application Development\n",
    "\n",
    "This course provides participants with information and practical experience in building advanced LLM (Large Language Model) applications using multi-stage reasoning LLM chains and agents. In the initial section, participants will learn how to decompose a problem into its components and select the most suitable model for each step to enhance business use cases. Following this, participants will construct a multi-stage reasoning chain utilizing LangChain and HuggingFace transformers. Finally, participants will be introduced to agents and will design an autonomous agent using generative models on Databricks.\n",
    "\n",
    "---\n",
    "\n",
    "## Prerequisites\n",
    "The content was developed for participants with these skills/knowledge/abilities:\n",
    "- Familiarity with natural language processing concepts\n",
    "- Familiarity with prompt engineering/prompt engineering best practices \n",
    "- Familiarity with the Databricks Data Intelligence Platform\n",
    "- Familiarity with RAG  (preparing data, building a RAG architecture, concepts like embedding, vectors, vector databases, etc.)\n",
    "\n",
    "---\n",
    "\n",
    "## Course Agenda  \n",
    "The following modules are part of the **Generative AI Application Development** course by **Databricks Academy**.\n",
    "\n",
    "| # | Module Name | Lesson Name |\n",
    "|---|-------------|-------------|\n",
    "| 1 | [Foundations of Compound AI Systems]($./01 - Foundations of Compound AI Systems) | • *Lecture:* Defining Compound AI Systems <br> • *Lecture:* Designing Compound AI Systems <br> • [Demo: Deconstruct and Plan a Use Case]($./01 - Foundations of Compound AI Systems/1.1 - Deconstruct and Plan a Use Case) <br> • [Lab: Planning an AI System for Product Quality Complaints]($./01 - Foundations of Compound AI Systems/1.LAB - Planning an AI System for Product Quality Complaints) |\n",
    "| 2 | [Building Multi-stage Reasoning Chains]($./02 - Building Multi-stage Reasoning chains) | • *Lecture:* Introduction to Multi-stage Reasoning Chains <br> • [Demo: Building Multi-stage Reasoning Chain in Databricks]($./02 - Building Multi-stage Reasoning chains/2.1 - Building Multi-stage Reasoning Chain in Databricks) <br> • [Lab: Building Multi-stage AI System]($./02 - Building Multi-stage Reasoning chains/2.LAB - Building Multi-stage AI System) |\n",
    "| 3 | [Agents and Cognitive Architectures]($./03 - Agents and Cognitive Architectures) | • *Lecture:* Introduction to Agents <br> • [Demo: Agent Design in Databricks]($./03 - Agents and Cognitive Architectures/3.1 - Agent Design in Databricks) <br> • [Lab: Create a ReAct Agent]($./03 - Agents and Cognitive Architectures/3.LAB - Create a ReAct Agent) |\n",
    " \n",
    "\n",
    "---\n",
    "\n",
    "## Requirements\n",
    "\n",
    "Please review the following requirements before starting the lesson:\n",
    "\n",
    "* Use Databricks Runtime version:**`15.4.x-cpu-ml-scala2.12`** for running all demo and lab notebooks."
   ]
  },
  {
   "cell_type": "markdown",
   "metadata": {
    "application/vnd.databricks.v1+cell": {
     "cellMetadata": {
      "byteLimit": 2048000,
      "rowLimit": 10000
     },
     "inputWidgets": {},
     "nuid": "e5d2abb1-6694-422f-914d-5ecfd5353a85",
     "showTitle": false,
     "tableResultSettingsMap": {},
     "title": ""
    }
   },
   "source": [
    "\n",
    "# 1.1 - Deconstruct and Plan a Use Case\n",
    "\n",
    "In this demo, we will plan a compound AI system architecture using pure python. The goal is to define the scope, functionalities and constraints of the system to be developed. \n",
    "\n",
    "We will create the system architecture to outline the structure and relationship of each component of the system. At this stage, we need to address the technical challenges and constraints of language model and frameworks to be used. \n",
    "\n",
    "**Learning Objectives:**\n",
    "\n",
    "*By the end of this demo, you will be able to*:\n",
    "\n",
    "* Apply a class architecture to the stages identified during Decomposition\n",
    "\n",
    "* Explain a convention that maps stage(s) to class methods\n",
    "\n",
    "* Plan what method attributes to use when writing a compound application\n",
    "\n",
    "* Identify various components in a compound app\n",
    "\n"
   ]
  },
  {
   "cell_type": "markdown",
   "metadata": {
    "application/vnd.databricks.v1+cell": {
     "cellMetadata": {
      "byteLimit": 2048000,
      "rowLimit": 10000
     },
     "inputWidgets": {},
     "nuid": "a529b0cc-2804-4e98-a4e4-af0f3ea51f01",
     "showTitle": false,
     "tableResultSettingsMap": {},
     "title": ""
    }
   },
   "source": [
    "%md\n",
    "## REQUIRED - SELECT CLASSIC COMPUTE\n",
    "Before executing cells in this notebook, please select your classic compute cluster in the lab. Be aware that **Serverless** is enabled by default.\n",
    "\n",
    "Follow these steps to select the classic compute cluster:\n",
    "1. Navigate to the top-right of this notebook and click the drop-down menu to select your cluster. By default, the notebook will use **Serverless**.\n",
    "\n",
    "2. If your cluster is available, select it and continue to the next cell. If the cluster is not shown:\n",
    "\n",
    "   - Click **More** in the drop-down.\n",
    "   \n",
    "   - In the **Attach to an existing compute resource** window, use the first drop-down to select your unique cluster.\n",
    "\n",
    "**NOTE:** If your cluster has terminated, you might need to restart it in order to select it. To do this:\n",
    "\n",
    "1. Right-click on **Compute** in the left navigation pane and select *Open in new tab*.\n",
    "\n",
    "2. Find the triangle icon to the right of your compute cluster name and click it.\n",
    "\n",
    "3. Wait a few minutes for the cluster to start.\n",
    "\n",
    "4. Once the cluster is running, complete the steps above to select your cluster."
   ]
  },
  {
   "cell_type": "markdown",
   "metadata": {
    "application/vnd.databricks.v1+cell": {
     "cellMetadata": {
      "byteLimit": 2048000,
      "rowLimit": 10000
     },
     "inputWidgets": {},
     "nuid": "0bbe31c1-c72e-4aed-9fbb-5b5bd55143d5",
     "showTitle": false,
     "tableResultSettingsMap": {},
     "title": ""
    }
   },
   "source": [
    "## Requirements\n",
    "\n",
    "Please review the following requirements before starting the lesson:\n",
    "\n",
    "* To run this notebook, you need to use one of the following Databricks runtime(s): **15.4.x-cpu-ml-scala2.12**\n"
   ]
  },
  {
   "cell_type": "markdown",
   "metadata": {
    "application/vnd.databricks.v1+cell": {
     "cellMetadata": {
      "byteLimit": 2048000,
      "rowLimit": 10000
     },
     "inputWidgets": {},
     "nuid": "42bf3a20-e105-4a29-9cb3-9c9a80a6e05f",
     "showTitle": false,
     "tableResultSettingsMap": {},
     "title": ""
    }
   },
   "source": [
    "\n",
    "## Classroom Setup\n",
    "\n",
    "Before starting the demo, **run the following code cells**."
   ]
  },
  {
   "cell_type": "code",
   "execution_count": 0,
   "metadata": {
    "application/vnd.databricks.v1+cell": {
     "cellMetadata": {
      "byteLimit": 2048000,
      "rowLimit": 10000
     },
     "inputWidgets": {},
     "nuid": "34842423-5987-4632-8708-db1404b0f8b0",
     "showTitle": false,
     "tableResultSettingsMap": {},
     "title": ""
    }
   },
   "outputs": [],
   "source": [
    "%pip install mlflow>=3.0 databricks-feature-engineering --upgrade\n",
    "#dbutils.library.restartPython()"
   ]
  },
  {
   "cell_type": "code",
   "execution_count": 0,
   "metadata": {
    "application/vnd.databricks.v1+cell": {
     "cellMetadata": {
      "byteLimit": 2048000,
      "rowLimit": 10000
     },
     "inputWidgets": {},
     "nuid": "d3274332-0e39-4b72-86af-0dc5921adb7b",
     "showTitle": false,
     "tableResultSettingsMap": {},
     "title": ""
    }
   },
   "outputs": [],
   "source": [
    "%run ../Includes/Classroom-Setup-01"
   ]
  },
  {
   "cell_type": "markdown",
   "metadata": {
    "application/vnd.databricks.v1+cell": {
     "cellMetadata": {},
     "inputWidgets": {},
     "nuid": "ab9da7ff-a43f-4ecd-a517-7e17cba33b93",
     "showTitle": false,
     "tableResultSettingsMap": {},
     "title": ""
    }
   },
   "source": [
    "\n",
    "## Overview of application\n",
    "\n",
    "In  notebook 1.1 - Deconstruct and Plan a Use Case, we created the sketch of our application below. Now it's time to fill in some of the details about each stage. Approach is more art than science, so this activity, we'll set convention for our planning that we want to define the following method attributes for each of our stages:\n",
    " * **Intent**: Provided from our previous exercise. Keep this around, when you get into actual coding this will be the description part of your docstring, see [PEP-257\n",
    "](https://peps.python.org/pep-0257/).\n",
    " * **Name**: YES! Naming things is hard. You'll get a pass in the exercise because we provide the name for you keep the content organized, but consider how you would have named things. Would you have used the `run_` prefix? Also remember that [PEP-8](https://peps.python.org/pep-0008/#method-names-and-instance-variables) already provides some conventions, specifically:\n",
    "     * lowercase with words separated by underscores as necessary to improve readability\n",
    "     * Use one leading underscore only for non-public methods and instance variables (not applicable to our exercise here)\n",
    "     * Avoid name clashes with subclasses\n",
    " * **Dependencies**: When planning you'll likely already have an idea of approach or library that you'll need in each stage. Here, you will want to capture those dependencies. After looking at those dependencies you may notice that you'll need more     \n",
    " * **Signature**: These are the argument names and types as well as the output type. However, when working with compound apps it's helpful to have stage methods that are directly tied to an LLM type of chat or completion to take the form:\n",
    "     * **model_inputs**: These are inputs that will change with each request and are not a configuration setting in the application.\n",
    "     * **params**: These are additional arguments we want exposed in our methods, but will likely not be argumented by users once the model is in model serving.\n",
    "     * **output**: This is the output of a method and will commonly take the form of the request response of a served model if one is called within the method.\n",
    "\n",
    "\n",
    " **NOTE**: At this point in planning, you don't necessarily need to get into the decisions about what arguments should be a compound app class entity and which should be maintained as class members.\n",
    "\n",
    " **NOTE**: The separation of model_inputs and params is an important one. Compound applications accumulate a lot of parameters that will need to have defaults set during class instantiation or load_context calls. By separating those arguments in the planning phase, it will be easier to identify the parameter space that is configurable in your compound application. While not exactly the same, it may be helpful to think of this collection of parameters as hyperparameters - these are configurations will spend time optimizing prior to best application selection, but not set during inference.\n"
   ]
  },
  {
   "cell_type": "markdown",
   "metadata": {
    "application/vnd.databricks.v1+cell": {
     "cellMetadata": {},
     "inputWidgets": {},
     "nuid": "83d9c124-59ca-4dfa-8514-ee4b7d7658a3",
     "showTitle": false,
     "tableResultSettingsMap": {},
     "title": ""
    }
   },
   "source": [
    "\n",
    "### 1. `run_search` Stage Attributes\n",
    "\n",
    "Our initial stage is run_search. Our intent is to get a list of candidate content that will be useful to augment our qa_model. Check out [Query a Vector Search Endpoint](https://docs.databricks.com/en/generative-ai/create-query-vector-search.html#query-a-vector-search-endpoint) to see examples using Databricks Vector Search.\n",
    "\n",
    "<!--  -->\n",
    "\n",
    "![new_schedule](../Includes/images/compound-ai-system-s-1.png)"
   ]
  },
  {
   "cell_type": "code",
   "execution_count": 0,
   "metadata": {
    "application/vnd.databricks.v1+cell": {
     "cellMetadata": {},
     "inputWidgets": {},
     "nuid": "916245b0-f615-424f-b866-c82113dcdc77",
     "showTitle": false,
     "tableResultSettingsMap": {},
     "title": ""
    }
   },
   "outputs": [],
   "source": [
    "displayHTML(html_run_search_1)"
   ]
  },
  {
   "cell_type": "markdown",
   "metadata": {
    "application/vnd.databricks.v1+cell": {
     "cellMetadata": {},
     "inputWidgets": {},
     "nuid": "c69d985c-9010-4390-b6b5-1760bb61ecf7",
     "showTitle": false,
     "tableResultSettingsMap": {},
     "title": ""
    }
   },
   "source": [
    "\n",
    "### 2. `run_summary` Stage Attributes\n",
    "\n",
    "We'll look at the run_summary method before we look at what needs to be done to run it asynchronously with run_augment. Recall that the output of our previous stage will be a dataclass, but ultimately that dataclass will need to be transformed into it's essential parts as a list of `tuple(id, content)`. Each iteration of run_summary will therefore have content and id variables in context from a single search result.\n",
    "\n",
    "<!--  -->\n",
    "\n",
    "![new_schedule](../Includes/images/compound-ai-system-s-2.png)"
   ]
  },
  {
   "cell_type": "code",
   "execution_count": 0,
   "metadata": {
    "application/vnd.databricks.v1+cell": {
     "cellMetadata": {},
     "inputWidgets": {},
     "nuid": "3e30af95-eb38-4036-8e7c-b2b9083bba70",
     "showTitle": false,
     "tableResultSettingsMap": {},
     "title": ""
    }
   },
   "outputs": [],
   "source": [
    "displayHTML(html_run_search_2)"
   ]
  },
  {
   "cell_type": "markdown",
   "metadata": {
    "application/vnd.databricks.v1+cell": {
     "cellMetadata": {},
     "inputWidgets": {},
     "nuid": "c4c1ba65-3069-4b94-b457-b8d56cb1d45f",
     "showTitle": false,
     "tableResultSettingsMap": {},
     "title": ""
    }
   },
   "source": [
    "\n",
    "### 3. (Optional) `run_augment` Stage Attributes\n",
    "\n",
    "Now let's plan what's necessary to execute `run_summary` asynchronously. The actual lesson of how asyncio works is beyond the scope of this instruction. However, we can still go through the planning exercise for a stage that runs asynchronously. If you are uncomfortable that you are planning without understanding exactly how every library works, take comfort in the fact that a lot of library discovery takes place during planning.\n",
    "\n",
    "\n",
    "<!--  -->\n",
    "\n",
    "![new_schedule](../Includes/images/compound-ai-system-s-3.png)"
   ]
  },
  {
   "cell_type": "code",
   "execution_count": 0,
   "metadata": {
    "application/vnd.databricks.v1+cell": {
     "cellMetadata": {},
     "inputWidgets": {},
     "nuid": "ddffe875-f28e-48fd-9e2a-124a6643bc43",
     "showTitle": false,
     "tableResultSettingsMap": {},
     "title": ""
    }
   },
   "outputs": [],
   "source": [
    "displayHTML(html_run_search_3)"
   ]
  },
  {
   "cell_type": "markdown",
   "metadata": {
    "application/vnd.databricks.v1+cell": {
     "cellMetadata": {},
     "inputWidgets": {},
     "nuid": "b82cb4b3-588d-43bb-bbc2-b7782407fd54",
     "showTitle": false,
     "tableResultSettingsMap": {},
     "title": ""
    }
   },
   "source": [
    "\n",
    "### 4. `run_get_context` Stage Attributes\n",
    "\n",
    "This stage we just need to take the results of our `run_augment` stage and convert into a context for our QA stage. That's right, a stage doesn't have to include an LLM. While this stage could have been made part of the stage before or after, it's broken out as it's own entity so this compound app could have a non-LLM stage.\n",
    "\n",
    "![new_schedule](../Includes/images/compound-ai-system-s-1.png)\n",
    "<!--  -->"
   ]
  },
  {
   "cell_type": "code",
   "execution_count": 0,
   "metadata": {
    "application/vnd.databricks.v1+cell": {
     "cellMetadata": {
      "byteLimit": 2048000,
      "rowLimit": 10000
     },
     "inputWidgets": {},
     "nuid": "2cfabf78-809d-4471-9325-6ab3c68bfa68",
     "showTitle": false,
     "tableResultSettingsMap": {},
     "title": ""
    }
   },
   "outputs": [],
   "source": [
    "displayHTML(html_run_search_4)"
   ]
  },
  {
   "cell_type": "markdown",
   "metadata": {
    "application/vnd.databricks.v1+cell": {
     "cellMetadata": {},
     "inputWidgets": {},
     "nuid": "0c8bf22c-afea-4568-82bc-cc12d32c087d",
     "showTitle": false,
     "tableResultSettingsMap": {},
     "title": ""
    }
   },
   "source": [
    "\n",
    "### 5. `run_qa` Stage Attributes\n",
    "\n",
    "We'll look at the `run_qa` stage. To make things interesting we are going to use a Chat LLM type instead of a Completion LLM type like we used in run_summary. That means you should take a look at [Chat Model](https://docs.databricks.com/en/machine-learning/model-serving/score-foundation-models.html#query-a-chat-completion-model) Docs. It may look the same as the completion model signature, but look closely, it's not.\n",
    "\n",
    "<!--  -->\n",
    "\n",
    "![new_schedule](../Includes/images/compound-ai-system-s-5.png)"
   ]
  },
  {
   "cell_type": "code",
   "execution_count": 0,
   "metadata": {
    "application/vnd.databricks.v1+cell": {
     "cellMetadata": {},
     "inputWidgets": {},
     "nuid": "2f0a254b-a181-416b-9f4a-0d3d4483e64a",
     "showTitle": false,
     "tableResultSettingsMap": {},
     "title": ""
    }
   },
   "outputs": [],
   "source": [
    "displayHTML(html_run_search_5)"
   ]
  },
  {
   "cell_type": "markdown",
   "metadata": {
    "application/vnd.databricks.v1+cell": {
     "cellMetadata": {},
     "inputWidgets": {},
     "nuid": "f6bac3fd-1def-491b-97e0-01b3536a1f57",
     "showTitle": false,
     "tableResultSettingsMap": {},
     "title": ""
    }
   },
   "source": [
    "\n",
    "### 6. (Optional) `main` Putting the Stages Together\n",
    "\n",
    "Time to take all that work planning each individual stage and putting it all together. Take a look below how our individual state planning greatly simplifies chaining our stages together. Not only is it succinct and easy to read, the logical separation and inclusion of dataclasses will also make the following future developer tasks much more straight forward:\n",
    "\n",
    "* **Testing**: Test can be written by each module we've created making it easier than would have otherwise been if we wrote our code as a script.\n",
    "\n",
    "* **Tracing**: Beyond the scope of this instruction, but adding trace decorators each stage will allow better evaluation for future improvements.\n",
    "\n",
    "* **Parameterizing**: By extraction out what all parameters are in the solution, we now have an understanding of our parameter space and ability to create new model versions by simply modifying parameters with no code updates.\n",
    "\n",
    "<!--  -->\n",
    "\n",
    "![new_schedule](../Includes/images/compound-ai-system-s-6.png)"
   ]
  },
  {
   "cell_type": "code",
   "execution_count": 0,
   "metadata": {
    "application/vnd.databricks.v1+cell": {
     "cellMetadata": {},
     "inputWidgets": {},
     "nuid": "bdfbdf1e-19e0-428d-9482-58d4875d1c52",
     "showTitle": false,
     "tableResultSettingsMap": {},
     "title": ""
    }
   },
   "outputs": [],
   "source": [
    "displayHTML(html_run_search_6)"
   ]
  },
  {
   "cell_type": "markdown",
   "metadata": {
    "application/vnd.databricks.v1+cell": {
     "cellMetadata": {},
     "inputWidgets": {},
     "nuid": "ff3319f4-58fb-46ea-8fea-0647851d5cbf",
     "showTitle": false,
     "tableResultSettingsMap": {},
     "title": ""
    }
   },
   "source": [
    "\n",
    "### 7. (Optional) Compound App as Pyfunc Model\n",
    "\n",
    "Our main method is nice, it can take a string and return a string. However, while local execution is nice, we'd really like our model to be deployable and be evaluated just as if it were a foundation model or external model. MLFlow and Databricks accomplish model deployments through built-in model types. Since we are not using a model library, we can use MLFlow's general form of a `pyfunc` model, and we can use a specific subclass of `mlflow.PythonModel`.\n"
   ]
  },
  {
   "cell_type": "code",
   "execution_count": 0,
   "metadata": {
    "application/vnd.databricks.v1+cell": {
     "cellMetadata": {},
     "inputWidgets": {},
     "nuid": "3c3f8468-f14e-425c-814f-ccda60581387",
     "showTitle": false,
     "tableResultSettingsMap": {},
     "title": ""
    }
   },
   "outputs": [],
   "source": [
    "displayHTML(html_run_search_7)"
   ]
  },
  {
   "cell_type": "markdown",
   "metadata": {
    "application/vnd.databricks.v1+cell": {
     "cellMetadata": {},
     "inputWidgets": {},
     "nuid": "f287b59e-3c09-42d3-a708-e0468207cff7",
     "showTitle": false,
     "tableResultSettingsMap": {},
     "title": ""
    }
   },
   "source": [
    "\n",
    "### Full Multi-Endpoint Architecture\n",
    "\n",
    "\n",
    "We've gone through all the work of identifying the dependencies which include both a Data Serving Endpoint and a couple model serving endpoints. We should have a look at what our final architecture is. Even in this straight forward compound application, you can see that it has a lot of endpoint dependencies. It's worth having this perspective to see all the serving endpoints that must be maintained.\n",
    "\n",
    "<!--  -->\n",
    "\n",
    "![new_schedule](../Includes/images/compound-ai-system-s-10.png)"
   ]
  },
  {
   "cell_type": "markdown",
   "metadata": {
    "application/vnd.databricks.v1+cell": {
     "cellMetadata": {},
     "inputWidgets": {},
     "nuid": "4d741c74-3b7b-4913-bfcf-7ff76816ea9a",
     "showTitle": false,
     "tableResultSettingsMap": {},
     "title": ""
    }
   },
   "source": [
    "\n",
    "&copy; 2025 Databricks, Inc. All rights reserved. Apache, Apache Spark, Spark, the Spark Logo, Apache Iceberg, Iceberg, and the Apache Iceberg logo are trademarks of the <a href=\"https://www.apache.org/\" target=\"blank\">Apache Software Foundation</a>.<br/>\n",
    "<br/><a href=\"https://databricks.com/privacy-policy\" target=\"blank\">Privacy Policy</a> | \n",
    "<a href=\"https://databricks.com/terms-of-use\" target=\"blank\">Terms of Use</a> | \n",
    "<a href=\"https://help.databricks.com/\" target=\"blank\">Support</a>"
   ]
  }
 ],
 "metadata": {
  "application/vnd.databricks.v1+notebook": {
   "computePreferences": {
    "hardware": {
     "accelerator": null,
     "gpuPoolId": null,
     "memory": null
    }
   },
   "dashboards": [],
   "environmentMetadata": {
    "base_environment": "",
    "environment_version": "3"
   },
   "inputWidgetPreferences": null,
   "language": "python",
   "notebookMetadata": {
    "pythonIndentUnit": 4
   },
   "notebookName": "Vocarium_Module_1",
   "widgets": {}
  },
  "language_info": {
   "name": "python"
  }
 },
 "nbformat": 4,
 "nbformat_minor": 0
}
