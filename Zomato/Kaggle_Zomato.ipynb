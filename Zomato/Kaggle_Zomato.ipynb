{
 "cells": [
  {
   "cell_type": "code",
   "execution_count": 0,
   "metadata": {
    "application/vnd.databricks.v1+cell": {
     "cellMetadata": {
      "byteLimit": 2048000,
      "rowLimit": 10000
     },
     "inputWidgets": {},
     "nuid": "de853259-04c7-464a-961f-f1b7fbf212ec",
     "showTitle": false,
     "tableResultSettingsMap": {},
     "title": ""
    }
   },
   "outputs": [],
   "source": [
    "zomato_df = spark.sql(\"SELECT * FROM zomato\")"
   ]
  },
  {
   "cell_type": "code",
   "execution_count": 0,
   "metadata": {
    "application/vnd.databricks.v1+cell": {
     "cellMetadata": {
      "byteLimit": 2048000,
      "rowLimit": 10000
     },
     "inputWidgets": {},
     "nuid": "352aa12f-f255-4cb5-b1cb-a0bb584bba39",
     "showTitle": false,
     "tableResultSettingsMap": {},
     "title": ""
    }
   },
   "outputs": [],
   "source": [
    "\n",
    "%pip install openpyxl pandas\n",
    "\n",
    "import pandas as pd\n",
    "country_wise = pd.read_excel(\"/Volumes/workspace/default/country_wise/Country-Code.xlsx\")\n",
    "display(country_wise)\n"
   ]
  },
  {
   "cell_type": "code",
   "execution_count": 0,
   "metadata": {
    "application/vnd.databricks.v1+cell": {
     "cellMetadata": {
      "byteLimit": 2048000,
      "rowLimit": 10000
     },
     "inputWidgets": {},
     "nuid": "0280216a-c513-4ffb-8f02-21ca01ab2449",
     "showTitle": false,
     "tableResultSettingsMap": {},
     "title": ""
    }
   },
   "outputs": [],
   "source": [
    "display(dbutils.fs.ls(\"/Volumes/workspace/default/country_wise\"))\n",
    "country_wise_spark = spark.createDataFrame(country_wise)\n",
    "#country_wise_spark.show()\n",
    "JoinedCountry_df=country_wise_spark.join(zomato_df,'Country Code',\"inner\")\n",
    "#JoinedCountry_df.show()"
   ]
  },
  {
   "cell_type": "markdown",
   "metadata": {
    "application/vnd.databricks.v1+cell": {
     "cellMetadata": {
      "byteLimit": 2048000,
      "rowLimit": 10000
     },
     "inputWidgets": {},
     "nuid": "3394d2b6-32b1-4611-a990-65f46901a824",
     "showTitle": false,
     "tableResultSettingsMap": {},
     "title": ""
    }
   },
   "source": [
    "### Inner Join working principle\n",
    "JoinedCountry_df = zomato_df.join(country_wise_spark, 'Country Code', \"inner\")\n",
    "Left DataFrame = zomato_df\n",
    "\n",
    "The columns of zomato_df appear first in the output.\n",
    "Then, columns from country_wise_spark (except the join key, which is merged).\n"
   ]
  },
  {
   "cell_type": "code",
   "execution_count": 0,
   "metadata": {
    "application/vnd.databricks.v1+cell": {
     "cellMetadata": {
      "byteLimit": 2048000,
      "rowLimit": 10000
     },
     "inputWidgets": {},
     "nuid": "6dc6e9a8-d506-452d-9b14-fc5c44565e1a",
     "showTitle": false,
     "tableResultSettingsMap": {},
     "title": ""
    }
   },
   "outputs": [],
   "source": [
    "JoinedCountry_df.columns"
   ]
  },
  {
   "cell_type": "code",
   "execution_count": 0,
   "metadata": {
    "application/vnd.databricks.v1+cell": {
     "cellMetadata": {
      "byteLimit": 2048000,
      "rowLimit": 10000
     },
     "inputWidgets": {},
     "nuid": "f59917e9-e0b5-411e-98a6-9f8470189f14",
     "showTitle": false,
     "tableResultSettingsMap": {},
     "title": ""
    }
   },
   "outputs": [],
   "source": [
    "print(len(JoinedCountry_df.columns))\n",
    "print(len(zomato_df.columns))\n",
    "print(len(country_wise_spark.columns))"
   ]
  },
  {
   "cell_type": "code",
   "execution_count": 0,
   "metadata": {
    "application/vnd.databricks.v1+cell": {
     "cellMetadata": {
      "byteLimit": 2048000,
      "rowLimit": 10000
     },
     "inputWidgets": {},
     "nuid": "31df80b3-672b-4c97-b0ba-21bdf7e55fee",
     "showTitle": false,
     "tableResultSettingsMap": {},
     "title": ""
    }
   },
   "outputs": [],
   "source": [
    "#zomato_df.select(\"Rating text\").show()     # Works\n",
    "#zomato_df.select('Rating text').show()     # Works\n",
    "zomato_df.select(\"Rating color\",\"Restaurant ID\").show()"
   ]
  },
  {
   "cell_type": "code",
   "execution_count": 0,
   "metadata": {
    "application/vnd.databricks.v1+cell": {
     "cellMetadata": {
      "byteLimit": 2048000,
      "rowLimit": 10000
     },
     "inputWidgets": {},
     "nuid": "77959e68-705d-4ae5-9ab3-3b17e5c0015d",
     "showTitle": false,
     "tableResultSettingsMap": {},
     "title": ""
    }
   },
   "outputs": [],
   "source": [
    "result = spark.sql(\"\"\"\n",
    "    SELECT `Country Code`, `Rating text`, COUNT(*) as total_restaurants\n",
    "    FROM zomato\n",
    "    GROUP BY `Country Code`, `Rating text`\n",
    "    ORDER BY total_restaurants DESC\n",
    "\"\"\")\n",
    "result.show()"
   ]
  },
  {
   "cell_type": "code",
   "execution_count": 0,
   "metadata": {
    "application/vnd.databricks.v1+cell": {
     "cellMetadata": {
      "byteLimit": 2048000,
      "rowLimit": 10000
     },
     "inputWidgets": {},
     "nuid": "22643ba9-863f-4171-8089-bdc009caf5e4",
     "showTitle": false,
     "tableResultSettingsMap": {},
     "title": ""
    }
   },
   "outputs": [],
   "source": [
    "result=result.withColumnRenamed(\"Rating text\",\"Rating_text\") \\\n",
    "        .withColumnRenamed(\"Rating text\",\"Rating_text\")\n",
    "result.columns\n",
    "result.createOrReplaceTempView(\"zomato_summary\")\n",
    "#result.write.saveAsTable(\"zomato_summary\")"
   ]
  },
  {
   "cell_type": "code",
   "execution_count": 0,
   "metadata": {
    "application/vnd.databricks.v1+cell": {
     "cellMetadata": {},
     "inputWidgets": {},
     "nuid": "0a7f6d05-f736-4802-a23e-e1241e555825",
     "showTitle": false,
     "tableResultSettingsMap": {},
     "title": ""
    }
   },
   "outputs": [],
   "source": []
  }
 ],
 "metadata": {
  "application/vnd.databricks.v1+notebook": {
   "computePreferences": {
    "hardware": {
     "accelerator": null,
     "gpuPoolId": null,
     "memory": null
    }
   },
   "dashboards": [],
   "environmentMetadata": {
    "base_environment": "",
    "environment_version": "3"
   },
   "inputWidgetPreferences": null,
   "language": "python",
   "notebookMetadata": {
    "pythonIndentUnit": 4
   },
   "notebookName": "Kaggle_Zomato",
   "widgets": {}
  },
  "language_info": {
   "name": "python"
  }
 },
 "nbformat": 4,
 "nbformat_minor": 0
}
