{
 "cells": [
  {
   "cell_type": "code",
   "execution_count": 0,
   "metadata": {
    "application/vnd.databricks.v1+cell": {
     "cellMetadata": {
      "byteLimit": 2048000,
      "rowLimit": 10000
     },
     "inputWidgets": {},
     "nuid": "de853259-04c7-464a-961f-f1b7fbf212ec",
     "showTitle": false,
     "tableResultSettingsMap": {},
     "title": ""
    }
   },
   "outputs": [],
   "source": [
    "zomato_df = spark.sql(\"SELECT * FROM zomato\")"
   ]
  },
  {
   "cell_type": "code",
   "execution_count": 0,
   "metadata": {
    "application/vnd.databricks.v1+cell": {
     "cellMetadata": {
      "byteLimit": 2048000,
      "rowLimit": 10000
     },
     "inputWidgets": {},
     "nuid": "352aa12f-f255-4cb5-b1cb-a0bb584bba39",
     "showTitle": false,
     "tableResultSettingsMap": {},
     "title": ""
    }
   },
   "outputs": [],
   "source": [
    "\n",
    "%pip install openpyxl pandas\n",
    "\n",
    "import pandas as pd\n",
    "country_wise = pd.read_excel(\"/Volumes/workspace/default/country_wise/Country-Code.xlsx\")\n",
    "display(country_wise)\n"
   ]
  },
  {
   "cell_type": "code",
   "execution_count": 0,
   "metadata": {
    "application/vnd.databricks.v1+cell": {
     "cellMetadata": {
      "byteLimit": 2048000,
      "rowLimit": 10000
     },
     "inputWidgets": {},
     "nuid": "0280216a-c513-4ffb-8f02-21ca01ab2449",
     "showTitle": false,
     "tableResultSettingsMap": {},
     "title": ""
    }
   },
   "outputs": [],
   "source": [
    "display(dbutils.fs.ls(\"/Volumes/workspace/default/country_wise\"))\n",
    "country_wise_spark = spark.createDataFrame(country_wise)\n",
    "#country_wise_spark.show()\n",
    "JoinedCountry_df=country_wise_spark.join(zomato_df,'Country Code',\"inner\")\n",
    "#JoinedCountry_df.show()"
   ]
  },
  {
   "cell_type": "markdown",
   "metadata": {
    "application/vnd.databricks.v1+cell": {
     "cellMetadata": {},
     "inputWidgets": {},
     "nuid": "3394d2b6-32b1-4611-a990-65f46901a824",
     "showTitle": false,
     "tableResultSettingsMap": {},
     "title": ""
    }
   },
   "source": [
    "### Inner Join working principle\n",
    "JoinedCountry_df = zomato_df.join(country_wise_spark, 'Country Code', \"inner\")\n",
    "Left DataFrame = zomato_df\n",
    "\n",
    "The columns of zomato_df appear first in the output.\n",
    "Then, columns from country_wise_spark (except the join key, which is merged).\n"
   ]
  },
  {
   "cell_type": "code",
   "execution_count": 0,
   "metadata": {
    "application/vnd.databricks.v1+cell": {
     "cellMetadata": {
      "byteLimit": 2048000,
      "rowLimit": 10000
     },
     "inputWidgets": {},
     "nuid": "6dc6e9a8-d506-452d-9b14-fc5c44565e1a",
     "showTitle": false,
     "tableResultSettingsMap": {},
     "title": ""
    }
   },
   "outputs": [],
   "source": [
    "JoinedCountry_df.columns"
   ]
  },
  {
   "cell_type": "code",
   "execution_count": 0,
   "metadata": {
    "application/vnd.databricks.v1+cell": {
     "cellMetadata": {
      "byteLimit": 2048000,
      "rowLimit": 10000
     },
     "inputWidgets": {},
     "nuid": "f59917e9-e0b5-411e-98a6-9f8470189f14",
     "showTitle": false,
     "tableResultSettingsMap": {},
     "title": ""
    }
   },
   "outputs": [],
   "source": [
    "print(len(JoinedCountry_df.columns))\n",
    "print(len(zomato_df.columns))\n",
    "print(len(country_wise_spark.columns))"
   ]
  },
  {
   "cell_type": "code",
   "execution_count": 0,
   "metadata": {
    "application/vnd.databricks.v1+cell": {
     "cellMetadata": {
      "byteLimit": 2048000,
      "rowLimit": 10000
     },
     "inputWidgets": {},
     "nuid": "31df80b3-672b-4c97-b0ba-21bdf7e55fee",
     "showTitle": false,
     "tableResultSettingsMap": {},
     "title": ""
    }
   },
   "outputs": [],
   "source": [
    "#zomato_df.select(\"Rating text\").show()     # Works\n",
    "#zomato_df.select('Rating text').show()     # Works\n",
    "zomato_df.select(\"Rating color\",\"Restaurant ID\").show()"
   ]
  },
  {
   "cell_type": "markdown",
   "metadata": {
    "application/vnd.databricks.v1+cell": {
     "cellMetadata": {},
     "inputWidgets": {},
     "nuid": "abb86eb2-bf11-4150-ac11-1d0f4c086590",
     "showTitle": false,
     "tableResultSettingsMap": {},
     "title": ""
    }
   },
   "source": [
    "### 🍽️ Zomato Dataset — Analytical SQL Questions\n",
    "\n",
    "The following are adapted analytical questions based on the **Zomato dataset** (`zomato` table with columns like `Country Code`, `Rating text`, `Rating color`, `Cuisines`, `Latitude`, `Longitude`, `Price range`, etc.).\n",
    "\n",
    "The queries are written in **Spark SQL** but can also be executed in standard SQL engines with small adjustments.\n",
    "\n",
    "---\n",
    "\n",
    "#### Question 01  \n",
    "**What is the total number of restaurants available in each country?**\n",
    "\n",
    "```sql\n",
    "SELECT `Country Code`, COUNT(*) AS total_restaurants\n",
    "FROM zomato\n",
    "GROUP BY `Country Code`;\n",
    "```\n",
    "\n",
    "#### Question 02  \n",
    "**How many restaurants fall under each rating category?**\n",
    "\n",
    "```sql\n",
    "SELECT `Rating text`, COUNT(*) AS restaurant_count\n",
    "FROM zomato\n",
    "GROUP BY `Rating text`\n",
    "ORDER BY restaurant_count DESC;\n",
    "```\n",
    "\n",
    "#### Question 03  \n",
    "**What are the top 5 cuisines offered globally?**\n",
    "\n",
    "```sql\n",
    "SELECT Cuisines, COUNT(*) AS cuisine_count\n",
    "FROM zomato\n",
    "GROUP BY Cuisines\n",
    "ORDER BY cuisine_count DESC\n",
    "LIMIT 5\n",
    "```\n",
    "\n",
    "#### Question 04  \n",
    "**Which rating color is most common among restaurants?**\n",
    "\n",
    "```sql\n",
    "SELECT `Rating color`, COUNT(*) AS rating_count\n",
    "FROM zomato\n",
    "GROUP BY `Rating color`\n",
    "ORDER BY rating_count DESC;\n",
    "```\n",
    "\n",
    "#### Question 05  \n",
    "**For each country, what is the most popular cuisine?**\n",
    "\n",
    "```sql\n",
    "SELECT `Country Code`, Cuisines, COUNT(*) AS cuisine_count\n",
    "FROM zomato\n",
    "GROUP BY `Country Code`, Cuisines\n",
    "QUALIFY RANK() OVER(PARTITION BY `Country Code` ORDER BY COUNT(*) DESC) = 1;\n",
    "```\n",
    "\n",
    "#### Question 06  \n",
    "**Which city (latitude/longitude) has the maximum restaurants?**\n",
    "\n",
    "```sql\n",
    "SELECT Latitude, Longitude, COUNT(*) AS restaurant_count\n",
    "FROM zomato\n",
    "GROUP BY Latitude, Longitude\n",
    "ORDER BY restaurant_count DESC\n",
    "LIMIT 1;\n",
    "```\n",
    "\n",
    "#### Question 07  \n",
    "**What is the distribution of restaurants by Price range in each country?**\n",
    "\n",
    "```sql\n",
    "SELECT `Country Code`, `Price range`, COUNT(*) AS restaurant_count\n",
    "FROM zomato\n",
    "GROUP BY `Country Code`, `Price range`\n",
    "ORDER BY `Country Code`, `Price range`;\n",
    "```\n",
    "\n",
    "\n",
    "#### Question 08  \n",
    "**How many restaurants in each country accept online delivery?**\n",
    "\n",
    "```sql\n",
    "SELECT `Country Code`, COUNT(*) AS online_delivery_restaurants\n",
    "FROM zomato\n",
    "WHERE `Has Online delivery` = 'Yes'\n",
    "GROUP BY `Country Code`;\n",
    "```\n",
    "\n",
    "#### Question 09  \n",
    "**What is the average rating of restaurants per country?**\n",
    "\n",
    "```sql\n",
    "SELECT `Country Code`, AVG(`Aggregate rating`) AS avg_rating\n",
    "FROM zomato\n",
    "GROUP BY `Country Code`;\n",
    "```\n",
    "\n",
    "#### Question 10  \n",
    "**Create a summary table with Country Code, Cuisines, Rating text, and Price range.**\n",
    "\n",
    "```sql\n",
    "SELECT `Country Code`, Cuisines, `Rating text`, `Price range`\n",
    "FROM zomato;\n",
    "```\n",
    "\n",
    "#### Question 11  \n",
    "**Rank cuisines per country by popularity**\n",
    "\n",
    "```sql\n",
    "SELECT `Country Code`, Cuisines, COUNT(*) AS cuisine_count,\n",
    "       RANK() OVER (PARTITION BY `Country Code` ORDER BY COUNT(*) DESC) AS cuisine_rank\n",
    "FROM zomato\n",
    "GROUP BY `Country Code`, Cuisines;\n",
    "```\n",
    "\n",
    "\n",
    "Reference Link:- https://www.analyticsvidhya.com/blog/2022/12/case-study-restaurants-insights-using-pyspark-databricks\n",
    "\n",
    "- Question 01:- What is the total amount each customer spent at the restaurant?\n",
    "- Question 02:- How many days has each customer visited the restaurant?\n",
    "- Question 03:- What was each customer’s first item from the menu?\n",
    "- Question 04:- Find out the most purchased item from the menu and how many times the customers purchased it.\n",
    "- Question 05:- Which item was the most popular for each customer\n",
    "- Question 06:- Which item was ordered first by the customer after becoming a restaurant member?\n",
    "- Question 07:- Which item was purchased before the customer became a member?\n",
    "- Question 08:- What is the total items and amount spent for each member before they became a member?\n",
    "- Question 09:- If each rupee spent equates to 10 points and item ‘jeera_rice’ has a 2x points multiplier, find out how many points each customer would have.\n",
    "- Question 10:- Create the complete table with all data and columns like customer_id, order_date, product_name, price, and member(Y/N).\n",
    "- Question 11:- We also require further information about the ranking of customer products. The owner does not need the ranking for non-member purchases, so he expects null ranking values for the records when customers still need to be part of the membership program.\n",
    "\n"
   ]
  },
  {
   "cell_type": "code",
   "execution_count": 0,
   "metadata": {
    "application/vnd.databricks.v1+cell": {
     "cellMetadata": {
      "byteLimit": 2048000,
      "rowLimit": 10000
     },
     "inputWidgets": {},
     "nuid": "77959e68-705d-4ae5-9ab3-3b17e5c0015d",
     "showTitle": false,
     "tableResultSettingsMap": {},
     "title": ""
    }
   },
   "outputs": [],
   "source": [
    "result = spark.sql(\"\"\"\n",
    "    SELECT `Country Code`, `Rating text`, COUNT(*) as total_restaurants\n",
    "    FROM zomato\n",
    "    GROUP BY `Country Code`, `Rating text`\n",
    "    ORDER BY total_restaurants DESC\n",
    "\"\"\")\n",
    "result.show()"
   ]
  },
  {
   "cell_type": "code",
   "execution_count": 0,
   "metadata": {
    "application/vnd.databricks.v1+cell": {
     "cellMetadata": {
      "byteLimit": 2048000,
      "rowLimit": 10000
     },
     "inputWidgets": {},
     "nuid": "22643ba9-863f-4171-8089-bdc009caf5e4",
     "showTitle": false,
     "tableResultSettingsMap": {},
     "title": ""
    }
   },
   "outputs": [],
   "source": [
    "result=result.withColumnRenamed(\"Rating text\",\"Rating_text\") \\\n",
    "        .withColumnRenamed(\"Rating text\",\"Rating_text\")\n",
    "result.columns\n",
    "result.createOrReplaceTempView(\"zomato_summary\")\n",
    "#result.write.saveAsTable(\"zomato_summary\")"
   ]
  },
  {
   "cell_type": "code",
   "execution_count": 0,
   "metadata": {
    "application/vnd.databricks.v1+cell": {
     "cellMetadata": {},
     "inputWidgets": {},
     "nuid": "0a7f6d05-f736-4802-a23e-e1241e555825",
     "showTitle": false,
     "tableResultSettingsMap": {},
     "title": ""
    }
   },
   "outputs": [],
   "source": []
  }
 ],
 "metadata": {
  "application/vnd.databricks.v1+notebook": {
   "computePreferences": {
    "hardware": {
     "accelerator": null,
     "gpuPoolId": null,
     "memory": null
    }
   },
   "dashboards": [],
   "environmentMetadata": {
    "base_environment": "",
    "environment_version": "3"
   },
   "inputWidgetPreferences": null,
   "language": "python",
   "notebookMetadata": {
    "pythonIndentUnit": 4
   },
   "notebookName": "Kaggle_Zomato",
   "widgets": {}
  },
  "language_info": {
   "name": "python"
  }
 },
 "nbformat": 4,
 "nbformat_minor": 0
}
