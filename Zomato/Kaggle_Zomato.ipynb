{
 "cells": [
  {
   "cell_type": "code",
   "execution_count": 0,
   "metadata": {
    "application/vnd.databricks.v1+cell": {
     "cellMetadata": {
      "byteLimit": 2048000,
      "rowLimit": 10000
     },
     "inputWidgets": {},
     "nuid": "de853259-04c7-464a-961f-f1b7fbf212ec",
     "showTitle": false,
     "tableResultSettingsMap": {},
     "title": ""
    }
   },
   "outputs": [],
   "source": [
    "zomato_df = spark.sql(\"SELECT * FROM zomato\")"
   ]
  },
  {
   "cell_type": "code",
   "execution_count": 0,
   "metadata": {
    "application/vnd.databricks.v1+cell": {
     "cellMetadata": {
      "byteLimit": 2048000,
      "rowLimit": 10000
     },
     "inputWidgets": {},
     "nuid": "352aa12f-f255-4cb5-b1cb-a0bb584bba39",
     "showTitle": false,
     "tableResultSettingsMap": {},
     "title": ""
    }
   },
   "outputs": [],
   "source": [
    "\n",
    "%pip install openpyxl pandas\n",
    "\n",
    "import pandas as pd\n",
    "country_wise = pd.read_excel(\"/Volumes/workspace/default/country_wise/Country-Code.xlsx\")\n",
    "display(country_wise)\n"
   ]
  },
  {
   "cell_type": "code",
   "execution_count": 0,
   "metadata": {
    "application/vnd.databricks.v1+cell": {
     "cellMetadata": {
      "byteLimit": 2048000,
      "rowLimit": 10000
     },
     "inputWidgets": {},
     "nuid": "0280216a-c513-4ffb-8f02-21ca01ab2449",
     "showTitle": false,
     "tableResultSettingsMap": {},
     "title": ""
    }
   },
   "outputs": [],
   "source": [
    "display(dbutils.fs.ls(\"/Volumes/workspace/default/country_wise\"))\n",
    "country_wise_spark = spark.createDataFrame(country_wise)\n",
    "#country_wise_spark.show()\n",
    "JoinedCountry_df=country_wise_spark.join(zomato_df,'Country Code',\"inner\")\n",
    "#JoinedCountry_df.show()"
   ]
  },
  {
   "cell_type": "markdown",
   "metadata": {
    "application/vnd.databricks.v1+cell": {
     "cellMetadata": {
      "byteLimit": 2048000,
      "rowLimit": 10000
     },
     "inputWidgets": {},
     "nuid": "3394d2b6-32b1-4611-a990-65f46901a824",
     "showTitle": false,
     "tableResultSettingsMap": {},
     "title": ""
    }
   },
   "source": [
    "### Inner Join working principle\n",
    "JoinedCountry_df = zomato_df.join(country_wise_spark, 'Country Code', \"inner\")\n",
    "Left DataFrame = zomato_df\n",
    "\n",
    "The columns of zomato_df appear first in the output.\n",
    "Then, columns from country_wise_spark (except the join key, which is merged).\n"
   ]
  },
  {
   "cell_type": "code",
   "execution_count": 0,
   "metadata": {
    "application/vnd.databricks.v1+cell": {
     "cellMetadata": {
      "byteLimit": 2048000,
      "rowLimit": 10000
     },
     "inputWidgets": {},
     "nuid": "6dc6e9a8-d506-452d-9b14-fc5c44565e1a",
     "showTitle": false,
     "tableResultSettingsMap": {},
     "title": ""
    }
   },
   "outputs": [],
   "source": [
    "JoinedCountry_df.columns"
   ]
  },
  {
   "cell_type": "code",
   "execution_count": 0,
   "metadata": {
    "application/vnd.databricks.v1+cell": {
     "cellMetadata": {
      "byteLimit": 2048000,
      "rowLimit": 10000
     },
     "inputWidgets": {},
     "nuid": "f59917e9-e0b5-411e-98a6-9f8470189f14",
     "showTitle": false,
     "tableResultSettingsMap": {},
     "title": ""
    }
   },
   "outputs": [],
   "source": [
    "print(len(JoinedCountry_df.columns))\n",
    "print(len(zomato_df.columns))\n",
    "print(len(country_wise_spark.columns))"
   ]
  },
  {
   "cell_type": "code",
   "execution_count": 0,
   "metadata": {
    "application/vnd.databricks.v1+cell": {
     "cellMetadata": {
      "byteLimit": 2048000,
      "rowLimit": 10000
     },
     "inputWidgets": {},
     "nuid": "31df80b3-672b-4c97-b0ba-21bdf7e55fee",
     "showTitle": false,
     "tableResultSettingsMap": {},
     "title": ""
    }
   },
   "outputs": [],
   "source": [
    "#zomato_df.select(\"Rating text\").show()     # Works\n",
    "#zomato_df.select('Rating text').show()     # Works\n",
    "zomato_df.select(\"Rating color\",\"Restaurant ID\").show()"
   ]
  },
  {
   "cell_type": "markdown",
   "metadata": {
    "application/vnd.databricks.v1+cell": {
     "cellMetadata": {
      "byteLimit": 2048000,
      "rowLimit": 10000
     },
     "inputWidgets": {},
     "nuid": "abb86eb2-bf11-4150-ac11-1d0f4c086590",
     "showTitle": false,
     "tableResultSettingsMap": {},
     "title": ""
    }
   },
   "source": [
    "### 🍽️ Zomato Dataset — Analytical SQL Questions\n",
    "\n",
    "The following are adapted analytical questions based on the **Zomato dataset** (`zomato` table with columns like `Country Code`, `Rating text`, `Rating color`, `Cuisines`, `Latitude`, `Longitude`, `Price range`, etc.).\n",
    "\n",
    "The queries are written in **Spark SQL** but can also be executed in standard SQL engines with small adjustments.\n",
    "\n",
    "---\n",
    "\n",
    "#### Question 01  \n",
    "**What is the total number of restaurants available in each country?**\n",
    "\n",
    "```sql\n",
    "SELECT `Country Code`, COUNT(*) AS total_restaurants\n",
    "FROM zomato\n",
    "GROUP BY `Country Code`;\n",
    "```\n",
    "\n",
    "#### Question 02  \n",
    "**How many restaurants fall under each rating category?**\n",
    "\n",
    "```sql\n",
    "SELECT `Rating text`, COUNT(*) AS restaurant_count\n",
    "FROM zomato\n",
    "GROUP BY `Rating text`\n",
    "ORDER BY restaurant_count DESC;\n",
    "```\n",
    "\n",
    "#### Question 03  \n",
    "**What are the top 5 cuisines offered globally?**\n",
    "\n",
    "```sql\n",
    "SELECT Cuisines, COUNT(*) AS cuisine_count\n",
    "FROM zomato\n",
    "GROUP BY Cuisines\n",
    "ORDER BY cuisine_count DESC\n",
    "LIMIT 5\n",
    "```\n",
    "\n",
    "#### Question 04  \n",
    "**Which rating color is most common among restaurants?**\n",
    "\n",
    "```sql\n",
    "SELECT `Rating color`, COUNT(*) AS rating_count\n",
    "FROM zomato\n",
    "GROUP BY `Rating color`\n",
    "ORDER BY rating_count DESC;\n",
    "```\n",
    "\n",
    "#### Question 05  \n",
    "**For each country, what is the most popular cuisine?**\n",
    "\n",
    "```sql\n",
    "SELECT `Country Code`, Cuisines, COUNT(*) AS cuisine_count\n",
    "FROM zomato\n",
    "GROUP BY `Country Code`, Cuisines\n",
    "QUALIFY RANK() OVER(PARTITION BY `Country Code` ORDER BY COUNT(*) DESC) = 1;\n",
    "```\n",
    "\n",
    "#### Question 06  \n",
    "**Which city (latitude/longitude) has the maximum restaurants?**\n",
    "\n",
    "```sql\n",
    "SELECT Latitude, Longitude, COUNT(*) AS restaurant_count\n",
    "FROM zomato\n",
    "GROUP BY Latitude, Longitude\n",
    "ORDER BY restaurant_count DESC\n",
    "LIMIT 1;\n",
    "```\n",
    "\n",
    "#### Question 07  \n",
    "**What is the distribution of restaurants by Price range in each country?**\n",
    "\n",
    "```sql\n",
    "SELECT `Country Code`, `Price range`, COUNT(*) AS restaurant_count\n",
    "FROM zomato\n",
    "GROUP BY `Country Code`, `Price range`\n",
    "ORDER BY `Country Code`, `Price range`;\n",
    "```\n",
    "\n",
    "\n",
    "#### Question 08  \n",
    "**How many restaurants in each country accept online delivery?**\n",
    "\n",
    "```sql\n",
    "SELECT `Country Code`, COUNT(*) AS online_delivery_restaurants\n",
    "FROM zomato\n",
    "WHERE `Has Online delivery` = 'Yes'\n",
    "GROUP BY `Country Code`;\n",
    "```\n",
    "\n",
    "#### Question 09  \n",
    "**What is the average rating of restaurants per country?**\n",
    "\n",
    "```sql\n",
    "SELECT `Country Code`, AVG(`Aggregate rating`) AS avg_rating\n",
    "FROM zomato\n",
    "GROUP BY `Country Code`;\n",
    "```\n",
    "\n",
    "#### Question 10  \n",
    "**Create a summary table with Country Code, Cuisines, Rating text, and Price range.**\n",
    "\n",
    "```sql\n",
    "SELECT `Country Code`, Cuisines, `Rating text`, `Price range`\n",
    "FROM zomato;\n",
    "```\n",
    "\n",
    "#### Question 11  \n",
    "**Rank cuisines per country by popularity**\n",
    "\n",
    "```sql\n",
    "SELECT `Country Code`, Cuisines, COUNT(*) AS cuisine_count,\n",
    "       RANK() OVER (PARTITION BY `Country Code` ORDER BY COUNT(*) DESC) AS cuisine_rank\n",
    "FROM zomato\n",
    "GROUP BY `Country Code`, Cuisines;\n",
    "```\n",
    "\n",
    "\n",
    "Reference Link:- https://www.analyticsvidhya.com/blog/2022/12/case-study-restaurants-insights-using-pyspark-databricks\n",
    "\n",
    "- Question 01:- What is the total amount each customer spent at the restaurant?\n",
    "- Question 02:- How many days has each customer visited the restaurant?\n",
    "- Question 03:- What was each customer’s first item from the menu?\n",
    "- Question 04:- Find out the most purchased item from the menu and how many times the customers purchased it.\n",
    "- Question 05:- Which item was the most popular for each customer\n",
    "- Question 06:- Which item was ordered first by the customer after becoming a restaurant member?\n",
    "- Question 07:- Which item was purchased before the customer became a member?\n",
    "- Question 08:- What is the total items and amount spent for each member before they became a member?\n",
    "- Question 09:- If each rupee spent equates to 10 points and item ‘jeera_rice’ has a 2x points multiplier, find out how many points each customer would have.\n",
    "- Question 10:- Create the complete table with all data and columns like customer_id, order_date, product_name, price, and member(Y/N).\n",
    "- Question 11:- We also require further information about the ranking of customer products. The owner does not need the ranking for non-member purchases, so he expects null ranking values for the records when customers still need to be part of the membership program.\n",
    "\n"
   ]
  },
  {
   "cell_type": "code",
   "execution_count": 0,
   "metadata": {
    "application/vnd.databricks.v1+cell": {
     "cellMetadata": {
      "byteLimit": 2048000,
      "rowLimit": 10000
     },
     "inputWidgets": {},
     "nuid": "77959e68-705d-4ae5-9ab3-3b17e5c0015d",
     "showTitle": false,
     "tableResultSettingsMap": {},
     "title": ""
    }
   },
   "outputs": [],
   "source": [
    "result = spark.sql(\"\"\"\n",
    "    SELECT `Country Code`, `Rating text`, COUNT(*) as total_restaurants\n",
    "    FROM zomato\n",
    "    GROUP BY `Country Code`, `Rating text`\n",
    "    ORDER BY total_restaurants DESC\n",
    "\"\"\")\n",
    "result.show()"
   ]
  },
  {
   "cell_type": "code",
   "execution_count": 0,
   "metadata": {
    "application/vnd.databricks.v1+cell": {
     "cellMetadata": {
      "byteLimit": 2048000,
      "rowLimit": 10000
     },
     "inputWidgets": {},
     "nuid": "22643ba9-863f-4171-8089-bdc009caf5e4",
     "showTitle": false,
     "tableResultSettingsMap": {},
     "title": ""
    }
   },
   "outputs": [],
   "source": [
    "result=result.withColumnRenamed(\"Rating text\",\"Rating_text\") \\\n",
    "        .withColumnRenamed(\"Rating text\",\"Rating_text\")\n",
    "result.columns\n",
    "result.createOrReplaceTempView(\"zomato_summary\")\n",
    "#result.write.saveAsTable(\"zomato_summary\")"
   ]
  },
  {
   "cell_type": "code",
   "execution_count": 0,
   "metadata": {
    "application/vnd.databricks.v1+cell": {
     "cellMetadata": {
      "byteLimit": 2048000,
      "rowLimit": 10000
     },
     "inputWidgets": {},
     "nuid": "a1472754-50d1-41b9-8839-f242dd4b98f6",
     "showTitle": false,
     "tableResultSettingsMap": {},
     "title": ""
    }
   },
   "outputs": [],
   "source": [
    "#JoinedCountry_df.columns\n",
    "JoinedCountry_df.select(\"Restaurant Name\",\"Country\",\"City\",\"Currency\",\"Aggregate rating\",\"Rating text\",\"Rating color\",\"Votes\").show()\n"
   ]
  },
  {
   "cell_type": "code",
   "execution_count": 0,
   "metadata": {
    "application/vnd.databricks.v1+cell": {
     "cellMetadata": {
      "byteLimit": 2048000,
      "rowLimit": 10000
     },
     "inputWidgets": {},
     "nuid": "949a9044-03b5-4d47-9369-5a2b970c74ea",
     "showTitle": false,
     "tableResultSettingsMap": {},
     "title": ""
    }
   },
   "outputs": [],
   "source": [
    "zomato_df.columns"
   ]
  },
  {
   "cell_type": "code",
   "execution_count": 0,
   "metadata": {
    "application/vnd.databricks.v1+cell": {
     "cellMetadata": {
      "byteLimit": 2048000,
      "implicitDf": true,
      "rowLimit": 10000
     },
     "inputWidgets": {},
     "nuid": "5016b2bb-c66f-49ef-8d8b-6994bb64d125",
     "showTitle": false,
     "tableResultSettingsMap": {},
     "title": ""
    }
   },
   "outputs": [],
   "source": [
    "# %sql\n",
    "# -- SELECT 'City', 'Country' as COUNT (*)\n",
    "# -- FROM zomato\n",
    "# -- GROUP BY 'City', 'Country'\n",
    "\n",
    "# -- SELECT City, Country as COUNT(*) as total_count\n",
    "# -- FROM zomato_df\n",
    "# -- GROUP BY City, Country\n",
    "# -- ORDER BY total_count DESC\n",
    "\n",
    "# -- SELECT City, 'Country Code',' COUNT(*) AS total_count\n",
    "# -- FROM zomato_df\n",
    "# -- GROUP BY City, 'Country Code';\n"
   ]
  },
  {
   "cell_type": "code",
   "execution_count": 0,
   "metadata": {
    "application/vnd.databricks.v1+cell": {
     "cellMetadata": {
      "byteLimit": 2048000,
      "rowLimit": 10000
     },
     "inputWidgets": {},
     "nuid": "d50ac4f9-23e7-4213-a8f6-801e4fbcac30",
     "showTitle": false,
     "tableResultSettingsMap": {},
     "title": ""
    }
   },
   "outputs": [],
   "source": [
    "# result = spark.sql(\"\"\"\n",
    "#     SELECT `City`,COUNT(*) as total_count\n",
    "#     FROM zomato\n",
    "#     GROUP BY `City`\n",
    "#     ORDER BY total_count DESC\n",
    "# \"\"\")\n",
    "# result.show()\n",
    "\n",
    "result = spark.sql(\"\"\"\n",
    "    SELECT `City`,COUNT(*) as total_count\n",
    "    FROM zomato\n",
    "    GROUP BY `City`\n",
    "    ORDER BY total_count DESC\n",
    "\"\"\")\n",
    "result.show()"
   ]
  },
  {
   "cell_type": "markdown",
   "metadata": {
    "application/vnd.databricks.v1+cell": {
     "cellMetadata": {
      "byteLimit": 2048000,
      "rowLimit": 10000
     },
     "inputWidgets": {},
     "nuid": "38ad2410-6c72-456e-ae83-202ef3e23a4d",
     "showTitle": false,
     "tableResultSettingsMap": {},
     "title": ""
    }
   },
   "source": [
    "##### 1️⃣If you just want the list of distinct cities:\n",
    "\n",
    "```\n",
    "SELECT DISTINCT `City`\n",
    "FROM zomato;\n",
    "```\n",
    "\n",
    "This gives you unique city names only (no counts).\n",
    "\n",
    "##### 2️⃣. If you want distinct cities and how many times they appear (most likely what you want): \n",
    "```\n",
    "SELECT `City`, COUNT(*) AS city_count\n",
    "FROM zomato\n",
    "GROUP BY `City`\n",
    "ORDER BY city_count DESC;\n",
    "```\n",
    "\n",
    "#####3️⃣ If you want distinct + a column for total distinct count (like a summary):\n",
    "```\n",
    "SELECT COUNT(DISTINCT `City`) AS total_unique_cities\n",
    "FROM zomato;\n",
    "```"
   ]
  },
  {
   "cell_type": "code",
   "execution_count": 0,
   "metadata": {
    "application/vnd.databricks.v1+cell": {
     "cellMetadata": {
      "byteLimit": 2048000,
      "implicitDf": true,
      "rowLimit": 10000
     },
     "inputWidgets": {},
     "nuid": "1aabbf5a-1005-4b26-8299-75803881eef4",
     "showTitle": false,
     "tableResultSettingsMap": {},
     "title": ""
    }
   },
   "outputs": [],
   "source": [
    "%sql\n",
    "-- SELECT COUNT( DISTINCT `City`)\n",
    "-- FROM zomato\n",
    "\n",
    "SELECT `City`, COUNT(*) AS city_count\n",
    "FROM zomato\n",
    "GROUP BY `City`\n",
    "ORDER BY city_count DESC;"
   ]
  },
  {
   "cell_type": "code",
   "execution_count": 0,
   "metadata": {
    "application/vnd.databricks.v1+cell": {
     "cellMetadata": {
      "byteLimit": 2048000,
      "implicitDf": true,
      "rowLimit": 10000
     },
     "inputWidgets": {},
     "nuid": "841b7362-39de-4ebb-8eb4-6bfff0c5f3a3",
     "showTitle": false,
     "tableResultSettingsMap": {},
     "title": ""
    }
   },
   "outputs": [],
   "source": [
    "%sql\n",
    "SELECT `Country Code`, Cuisines, COUNT(*) AS cuisine_count,\n",
    "       RANK() OVER (PARTITION BY `Country Code` ORDER BY COUNT(*) DESC) AS cuisine_rank\n",
    "FROM zomato\n",
    "GROUP BY `Country Code`, Cuisines"
   ]
  },
  {
   "cell_type": "markdown",
   "metadata": {
    "application/vnd.databricks.v1+cell": {
     "cellMetadata": {
      "byteLimit": 2048000,
      "rowLimit": 10000
     },
     "inputWidgets": {},
     "nuid": "1cc9a057-ca8e-4b82-8c54-12c1331235c3",
     "showTitle": false,
     "tableResultSettingsMap": {},
     "title": ""
    }
   },
   "source": [
    "##### 3️⃣ Key Notes\n",
    "\n",
    "RANK() allows ties (if two cuisines have same count, they both get same rank, and the next rank is skipped).\n",
    "- Example: counts 100, 100, 80 → ranks 1, 1, 3.\n",
    " \n",
    "If you want continuous ranking without skipping numbers, use DENSE_RANK().\n",
    "- Example: counts 100, 100, 80 → ranks 1, 1, 2.\n",
    "\n",
    "If you want the row number regardless of ties, use ROW_NUMBER().\n",
    "- Example: counts 100, 100, 80 → ranks 1, 2, 3."
   ]
  },
  {
   "cell_type": "code",
   "execution_count": 0,
   "metadata": {
    "application/vnd.databricks.v1+cell": {
     "cellMetadata": {
      "byteLimit": 2048000,
      "implicitDf": true,
      "rowLimit": 10000
     },
     "inputWidgets": {},
     "nuid": "35ca0ea0-328f-4443-8c29-a4dc82fecb2b",
     "showTitle": false,
     "tableResultSettingsMap": {},
     "title": ""
    }
   },
   "outputs": [],
   "source": [
    "%sql\n",
    "\n",
    "SELECT `Country Code`, COUNT(*) AS online_delivery_restaurants\n",
    "FROM zomato\n",
    "WHERE `Has Online delivery` = 'Yes'\n",
    "GROUP BY `Country Code`;\n"
   ]
  },
  {
   "cell_type": "code",
   "execution_count": 0,
   "metadata": {
    "application/vnd.databricks.v1+cell": {
     "cellMetadata": {
      "byteLimit": 2048000,
      "implicitDf": true,
      "rowLimit": 10000
     },
     "inputWidgets": {},
     "nuid": "231fbe42-5280-4ef4-8222-4a08a87deea7",
     "showTitle": false,
     "tableResultSettingsMap": {},
     "title": ""
    }
   },
   "outputs": [],
   "source": [
    "%sql\n",
    "SELECT `Country Code`, `Price range`, COUNT(*) AS restaurant_count\n",
    "FROM zomato\n",
    "GROUP BY `Country Code`, `Price range`\n",
    "ORDER BY `Country Code`, `Price range`;\n"
   ]
  },
  {
   "cell_type": "code",
   "execution_count": 0,
   "metadata": {
    "application/vnd.databricks.v1+cell": {
     "cellMetadata": {
      "byteLimit": 2048000,
      "implicitDf": true,
      "rowLimit": 10000
     },
     "inputWidgets": {},
     "nuid": "c83cadc5-c6f4-4f15-9b0a-75d9061f1410",
     "showTitle": false,
     "tableResultSettingsMap": {},
     "title": ""
    }
   },
   "outputs": [],
   "source": [
    "%sql \n",
    "SELECT `Country Code`, AVG(`Aggregate rating`) AS avg_rating\n",
    "FROM zomato\n",
    "GROUP BY `Country Code`;"
   ]
  },
  {
   "cell_type": "code",
   "execution_count": 0,
   "metadata": {
    "application/vnd.databricks.v1+cell": {
     "cellMetadata": {
      "byteLimit": 2048000,
      "implicitDf": true,
      "rowLimit": 10000
     },
     "inputWidgets": {},
     "nuid": "beb9a717-29cf-4d5c-a8a0-478f256fbbff",
     "showTitle": false,
     "tableResultSettingsMap": {},
     "title": ""
    }
   },
   "outputs": [],
   "source": [
    "%sql\n",
    "SELECT `City`, COUNT(*) As Online_For_Cities\n",
    "FROM zomato\n",
    "WHERE `Has Online Delivery` = 'Yes'\n",
    "GROUP BY `City`;"
   ]
  },
  {
   "cell_type": "code",
   "execution_count": 0,
   "metadata": {
    "application/vnd.databricks.v1+cell": {
     "cellMetadata": {
      "byteLimit": 2048000,
      "implicitDf": true,
      "rowLimit": 10000
     },
     "inputWidgets": {},
     "nuid": "4031b456-4d5d-44b8-a4ed-9811cdb23444",
     "showTitle": false,
     "tableResultSettingsMap": {
      "0": {
       "dataGridStateBlob": "{\"version\":1,\"tableState\":{\"columnPinning\":{\"left\":[\"#row_number#\"],\"right\":[]},\"columnSizing\":{},\"columnVisibility\":{}},\"settings\":{\"columns\":{}},\"syncTimestamp\":1756732964938}",
       "filterBlob": null,
       "queryPlanFiltersBlob": null,
       "tableResultIndex": 0
      }
     },
     "title": ""
    }
   },
   "outputs": [],
   "source": [
    "%sql \n",
    "-- SELECT `Restaurant Name`,`City`, AVG(`Aggregate rating`) as AverageReputation\n",
    "-- FROM zomato\n",
    "-- GROUP BY `Restaurant Name`,`City`\n",
    "-- ORDER BY AverageReputation DESC\n",
    "\n",
    "SELECT `City`,`Restaurant Name`, AVG(`Aggregate rating`) as AverageReputation\n",
    "FROM zomato\n",
    "GROUP BY `City`,`Restaurant Name`\n",
    "ORDER BY AverageReputation DESC\n",
    "\n",
    "-- SELECT `Restaurant Name`, AVG(`Aggregate rating`) as AverageReputation\n",
    "-- FROM zomato\n",
    "-- GROUP BY `Restaurant Name`\n",
    "-- ORDER BY AverageReputation DESC"
   ]
  },
  {
   "cell_type": "code",
   "execution_count": 0,
   "metadata": {
    "application/vnd.databricks.v1+cell": {
     "cellMetadata": {
      "byteLimit": 2048000,
      "implicitDf": true,
      "rowLimit": 10000
     },
     "inputWidgets": {},
     "nuid": "8bc29425-3c5a-4e09-9c92-afb87956c3be",
     "showTitle": false,
     "tableResultSettingsMap": {},
     "title": ""
    }
   },
   "outputs": [],
   "source": [
    "%sql\n",
    "SHOW COLUMNS\n",
    "IN zomato"
   ]
  },
  {
   "cell_type": "code",
   "execution_count": 0,
   "metadata": {
    "application/vnd.databricks.v1+cell": {
     "cellMetadata": {
      "byteLimit": 2048000,
      "implicitDf": true,
      "rowLimit": 10000
     },
     "inputWidgets": {},
     "nuid": "d444fb2e-277f-42d6-88ed-fe10e2478453",
     "showTitle": false,
     "tableResultSettingsMap": {},
     "title": ""
    }
   },
   "outputs": [],
   "source": [
    "%sql\n",
    "DESCRIBE zomato"
   ]
  },
  {
   "cell_type": "code",
   "execution_count": 0,
   "metadata": {
    "application/vnd.databricks.v1+cell": {
     "cellMetadata": {
      "byteLimit": 2048000,
      "implicitDf": true,
      "rowLimit": 10000
     },
     "inputWidgets": {},
     "nuid": "a66395bb-0f41-441c-a965-32ebfa853004",
     "showTitle": false,
     "tableResultSettingsMap": {},
     "title": ""
    }
   },
   "outputs": [],
   "source": [
    "%sql\n",
    "DESCRIBE EXTENDED zomato"
   ]
  },
  {
   "cell_type": "code",
   "execution_count": 0,
   "metadata": {
    "application/vnd.databricks.v1+cell": {
     "cellMetadata": {
      "byteLimit": 2048000,
      "implicitDf": true,
      "rowLimit": 10000
     },
     "inputWidgets": {},
     "nuid": "32b3b317-9953-45b6-b482-f449d8b91137",
     "showTitle": false,
     "tableResultSettingsMap": {},
     "title": ""
    }
   },
   "outputs": [],
   "source": [
    "%sql\n",
    "SELECT column_name, data_type\n",
    "FROM information_schema.columns\n",
    "WHERE table_name = 'zomato';\n"
   ]
  },
  {
   "cell_type": "code",
   "execution_count": 0,
   "metadata": {
    "application/vnd.databricks.v1+cell": {
     "cellMetadata": {
      "byteLimit": 2048000,
      "implicitDf": true,
      "rowLimit": 10000
     },
     "inputWidgets": {},
     "nuid": "d23aaf03-1adb-49df-ae3a-0828e44d9d5a",
     "showTitle": false,
     "tableResultSettingsMap": {},
     "title": ""
    }
   },
   "outputs": [],
   "source": [
    "%sql\n",
    "SELECT *\n",
    "FROM zomato\n",
    "WHERE `Restaurant ID` IS NOT NULL\n",
    "  AND `Restaurant Name` IS NOT NULL\n",
    "  AND `Country Code` IS NOT NULL\n",
    "  AND `Cuisines` IS NOT NULL\n",
    "  AND `City` IS NOT NULL;"
   ]
  }
 ],
 "metadata": {
  "application/vnd.databricks.v1+notebook": {
   "computePreferences": {
    "hardware": {
     "accelerator": null,
     "gpuPoolId": null,
     "memory": null
    }
   },
   "dashboards": [],
   "environmentMetadata": {
    "base_environment": "",
    "environment_version": "3"
   },
   "inputWidgetPreferences": null,
   "language": "python",
   "notebookMetadata": {
    "mostRecentlyExecutedCommandWithImplicitDF": {
     "commandId": 4981308757223825,
     "dataframes": [
      "_sqldf"
     ]
    },
    "pythonIndentUnit": 4
   },
   "notebookName": "Kaggle_Zomato",
   "widgets": {}
  },
  "language_info": {
   "name": "python"
  }
 },
 "nbformat": 4,
 "nbformat_minor": 0
}
